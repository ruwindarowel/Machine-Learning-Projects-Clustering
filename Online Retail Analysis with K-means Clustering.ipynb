{
 "cells": [
  {
   "cell_type": "code",
   "execution_count": 60,
   "id": "5b8a955e",
   "metadata": {},
   "outputs": [],
   "source": [
    "import pandas as pd\n",
    "import numpy as np\n",
    "import matplotlib.pyplot as plt\n",
    "import seaborn as sns"
   ]
  },
  {
   "cell_type": "code",
   "execution_count": 87,
   "id": "8c4d1fca",
   "metadata": {},
   "outputs": [
    {
     "name": "stdout",
     "output_type": "stream",
     "text": [
      "             Recency  Freq  Monetary\n",
      "Customer_ID                         \n",
      "12747              2   103   4196.01\n",
      "12748              0  4593  33211.53\n",
      "12749              3   199   4090.88\n",
      "12820              3    59    942.34\n",
      "12821            214     6     92.72\n"
     ]
    }
   ],
   "source": [
    "#Importing the dataset\n",
    "\n",
    "df_main=pd.read_csv(\"D:/Data Analysis/Clustering/RFM_MAIN.csv\",index_col=\"Customer_ID\")\n",
    "df_BACKUP=pd.read_csv(\"D:/Data Analysis/Clustering/RFM_MAIN.csv\",index_col=\"Customer_ID\")\n",
    "\n",
    "df=df_main\n",
    "print(df.head())"
   ]
  },
  {
   "cell_type": "code",
   "execution_count": 88,
   "id": "109385df",
   "metadata": {},
   "outputs": [
    {
     "data": {
      "text/html": [
       "<div>\n",
       "<style scoped>\n",
       "    .dataframe tbody tr th:only-of-type {\n",
       "        vertical-align: middle;\n",
       "    }\n",
       "\n",
       "    .dataframe tbody tr th {\n",
       "        vertical-align: top;\n",
       "    }\n",
       "\n",
       "    .dataframe thead th {\n",
       "        text-align: right;\n",
       "    }\n",
       "</style>\n",
       "<table border=\"1\" class=\"dataframe\">\n",
       "  <thead>\n",
       "    <tr style=\"text-align: right;\">\n",
       "      <th></th>\n",
       "      <th>Recency</th>\n",
       "      <th>Freq</th>\n",
       "      <th>Monetary</th>\n",
       "    </tr>\n",
       "  </thead>\n",
       "  <tbody>\n",
       "    <tr>\n",
       "      <th>count</th>\n",
       "      <td>3903.000000</td>\n",
       "      <td>3903.000000</td>\n",
       "      <td>3903.000000</td>\n",
       "    </tr>\n",
       "    <tr>\n",
       "      <th>mean</th>\n",
       "      <td>91.809634</td>\n",
       "      <td>90.575455</td>\n",
       "      <td>1635.229694</td>\n",
       "    </tr>\n",
       "    <tr>\n",
       "      <th>std</th>\n",
       "      <td>99.564749</td>\n",
       "      <td>218.087263</td>\n",
       "      <td>4637.962932</td>\n",
       "    </tr>\n",
       "    <tr>\n",
       "      <th>min</th>\n",
       "      <td>0.000000</td>\n",
       "      <td>1.000000</td>\n",
       "      <td>2.900000</td>\n",
       "    </tr>\n",
       "    <tr>\n",
       "      <th>25%</th>\n",
       "      <td>17.000000</td>\n",
       "      <td>17.000000</td>\n",
       "      <td>296.090000</td>\n",
       "    </tr>\n",
       "    <tr>\n",
       "      <th>50%</th>\n",
       "      <td>50.000000</td>\n",
       "      <td>41.000000</td>\n",
       "      <td>640.760000</td>\n",
       "    </tr>\n",
       "    <tr>\n",
       "      <th>75%</th>\n",
       "      <td>142.500000</td>\n",
       "      <td>100.000000</td>\n",
       "      <td>1543.135000</td>\n",
       "    </tr>\n",
       "    <tr>\n",
       "      <th>max</th>\n",
       "      <td>373.000000</td>\n",
       "      <td>7847.000000</td>\n",
       "      <td>134415.520000</td>\n",
       "    </tr>\n",
       "  </tbody>\n",
       "</table>\n",
       "</div>"
      ],
      "text/plain": [
       "           Recency         Freq       Monetary\n",
       "count  3903.000000  3903.000000    3903.000000\n",
       "mean     91.809634    90.575455    1635.229694\n",
       "std      99.564749   218.087263    4637.962932\n",
       "min       0.000000     1.000000       2.900000\n",
       "25%      17.000000    17.000000     296.090000\n",
       "50%      50.000000    41.000000     640.760000\n",
       "75%     142.500000   100.000000    1543.135000\n",
       "max     373.000000  7847.000000  134415.520000"
      ]
     },
     "execution_count": 88,
     "metadata": {},
     "output_type": "execute_result"
    }
   ],
   "source": [
    "df.describe()"
   ]
  },
  {
   "cell_type": "code",
   "execution_count": 89,
   "id": "708da647",
   "metadata": {},
   "outputs": [
    {
     "name": "stdout",
     "output_type": "stream",
     "text": [
      "<class 'pandas.core.frame.DataFrame'>\n",
      "Int64Index: 3903 entries, 12747 to 18287\n",
      "Data columns (total 3 columns):\n",
      " #   Column    Non-Null Count  Dtype  \n",
      "---  ------    --------------  -----  \n",
      " 0   Recency   3903 non-null   int64  \n",
      " 1   Freq      3903 non-null   int64  \n",
      " 2   Monetary  3903 non-null   float64\n",
      "dtypes: float64(1), int64(2)\n",
      "memory usage: 122.0 KB\n"
     ]
    }
   ],
   "source": [
    "df.info()"
   ]
  },
  {
   "cell_type": "markdown",
   "id": "7e2005ca",
   "metadata": {},
   "source": [
    "# Normal K means Clustering you conducted on R"
   ]
  },
  {
   "cell_type": "markdown",
   "id": "de221a17",
   "metadata": {},
   "source": [
    "### Filtering out values with Monetary Greater than 10000"
   ]
  },
  {
   "cell_type": "code",
   "execution_count": 90,
   "id": "b624bfb2",
   "metadata": {},
   "outputs": [
    {
     "name": "stdout",
     "output_type": "stream",
     "text": [
      "           Recency         Freq       Monetary\n",
      "count  3903.000000  3903.000000    3903.000000\n",
      "mean     91.809634    90.575455    1635.229694\n",
      "std      99.564749   218.087263    4637.962932\n",
      "min       0.000000     1.000000       2.900000\n",
      "25%      17.000000    17.000000     296.090000\n",
      "50%      50.000000    41.000000     640.760000\n",
      "75%     142.500000   100.000000    1543.135000\n",
      "max     373.000000  7847.000000  134415.520000\n",
      "             Recency  Freq  Monetary\n",
      "Customer_ID                         \n",
      "12747              2   103   4196.01\n",
      "12748              0  4593  33211.53\n",
      "12749              3   199   4090.88\n",
      "12820              3    59    942.34\n",
      "12821            214     6     92.72\n"
     ]
    }
   ],
   "source": [
    "#df=df.loc[(df.Monetary<5000) & (df.Freq < 1000)]\n",
    "print(df.describe())\n",
    "print(df.head())"
   ]
  },
  {
   "cell_type": "code",
   "execution_count": 91,
   "id": "19e19245",
   "metadata": {},
   "outputs": [],
   "source": [
    "from sklearn.preprocessing import StandardScaler, normalize\n",
    "from sklearn.cluster import KMeans\n",
    "from sklearn.metrics import silhouette_score"
   ]
  },
  {
   "cell_type": "code",
   "execution_count": 92,
   "id": "26bb2c79",
   "metadata": {},
   "outputs": [],
   "source": [
    "#Standardize the data\n",
    "scaler=StandardScaler()\n",
    "scaled_df=scaler.fit_transform(df)"
   ]
  },
  {
   "cell_type": "code",
   "execution_count": 93,
   "id": "b870d04c",
   "metadata": {},
   "outputs": [],
   "source": [
    "#Normalize the data\n",
    "normal_df=normalize(scaled_df)\n",
    "normal_df = pd.DataFrame(normal_df) "
   ]
  },
  {
   "cell_type": "code",
   "execution_count": 94,
   "id": "77b3ed8d",
   "metadata": {},
   "outputs": [
    {
     "data": {
      "text/html": [
       "<div>\n",
       "<style scoped>\n",
       "    .dataframe tbody tr th:only-of-type {\n",
       "        vertical-align: middle;\n",
       "    }\n",
       "\n",
       "    .dataframe tbody tr th {\n",
       "        vertical-align: top;\n",
       "    }\n",
       "\n",
       "    .dataframe thead th {\n",
       "        text-align: right;\n",
       "    }\n",
       "</style>\n",
       "<table border=\"1\" class=\"dataframe\">\n",
       "  <thead>\n",
       "    <tr style=\"text-align: right;\">\n",
       "      <th></th>\n",
       "      <th>0</th>\n",
       "      <th>1</th>\n",
       "      <th>2</th>\n",
       "    </tr>\n",
       "  </thead>\n",
       "  <tbody>\n",
       "    <tr>\n",
       "      <th>count</th>\n",
       "      <td>3903.000000</td>\n",
       "      <td>3903.000000</td>\n",
       "      <td>3903.000000</td>\n",
       "    </tr>\n",
       "    <tr>\n",
       "      <th>mean</th>\n",
       "      <td>-0.216811</td>\n",
       "      <td>-0.142497</td>\n",
       "      <td>-0.148371</td>\n",
       "    </tr>\n",
       "    <tr>\n",
       "      <th>std</th>\n",
       "      <td>0.778895</td>\n",
       "      <td>0.422560</td>\n",
       "      <td>0.354504</td>\n",
       "    </tr>\n",
       "    <tr>\n",
       "      <th>min</th>\n",
       "      <td>-0.999977</td>\n",
       "      <td>-0.967478</td>\n",
       "      <td>-0.983370</td>\n",
       "    </tr>\n",
       "    <tr>\n",
       "      <th>25%</th>\n",
       "      <td>-0.885964</td>\n",
       "      <td>-0.422632</td>\n",
       "      <td>-0.375678</td>\n",
       "    </tr>\n",
       "    <tr>\n",
       "      <th>50%</th>\n",
       "      <td>-0.603640</td>\n",
       "      <td>-0.212571</td>\n",
       "      <td>-0.206062</td>\n",
       "    </tr>\n",
       "    <tr>\n",
       "      <th>75%</th>\n",
       "      <td>0.804613</td>\n",
       "      <td>0.055286</td>\n",
       "      <td>-0.026405</td>\n",
       "    </tr>\n",
       "    <tr>\n",
       "      <th>max</th>\n",
       "      <td>0.999878</td>\n",
       "      <td>0.989122</td>\n",
       "      <td>0.998614</td>\n",
       "    </tr>\n",
       "  </tbody>\n",
       "</table>\n",
       "</div>"
      ],
      "text/plain": [
       "                 0            1            2\n",
       "count  3903.000000  3903.000000  3903.000000\n",
       "mean     -0.216811    -0.142497    -0.148371\n",
       "std       0.778895     0.422560     0.354504\n",
       "min      -0.999977    -0.967478    -0.983370\n",
       "25%      -0.885964    -0.422632    -0.375678\n",
       "50%      -0.603640    -0.212571    -0.206062\n",
       "75%       0.804613     0.055286    -0.026405\n",
       "max       0.999878     0.989122     0.998614"
      ]
     },
     "execution_count": 94,
     "metadata": {},
     "output_type": "execute_result"
    }
   ],
   "source": [
    "normal_df.describe()"
   ]
  },
  {
   "cell_type": "markdown",
   "id": "2dc9eca8",
   "metadata": {},
   "source": [
    "### ELBOW CRITERION"
   ]
  },
  {
   "cell_type": "code",
   "execution_count": 95,
   "id": "29be42ff",
   "metadata": {},
   "outputs": [],
   "source": [
    "sse={}\n",
    "for i in range(1,10):\n",
    "    kmeans=KMeans(n_clusters=i,max_iter=1000).fit(normal_df)\n",
    "    sse[i]=kmeans.inertia_"
   ]
  },
  {
   "cell_type": "code",
   "execution_count": 96,
   "id": "3c6ac1bf",
   "metadata": {},
   "outputs": [
    {
     "data": {
      "image/png": "[encoded data removed]",
      "text/plain": [
       "<Figure size 640x480 with 1 Axes>"
      ]
     },
     "metadata": {},
     "output_type": "display_data"
    }
   ],
   "source": [
    "plt.figure()\n",
    "plt.plot(list(sse.keys()), list(sse.values()))\n",
    "plt.xlabel(\"Number of cluster\")\n",
    "plt.ylabel(\"SSE\")\n",
    "plt.show()"
   ]
  },
  {
   "cell_type": "markdown",
   "id": "507919c1",
   "metadata": {},
   "source": [
    "### Calculating the Sillhouette Scores"
   ]
  },
  {
   "cell_type": "code",
   "execution_count": 97,
   "id": "451c85e5",
   "metadata": {},
   "outputs": [
    {
     "data": {
      "image/png": "[encoded data removed]",
      "text/plain": [
       "<Figure size 640x480 with 1 Axes>"
      ]
     },
     "metadata": {},
     "output_type": "display_data"
    },
    {
     "name": "stdout",
     "output_type": "stream",
     "text": [
      "..............................................................\n",
      "   Cluster  Silhoutte_Score\n",
      "0        2         0.597634\n",
      "1        3         0.580863\n",
      "2        4         0.531950\n",
      "3        5         0.508098\n",
      "4        6         0.505068\n",
      "5        7         0.475712\n"
     ]
    }
   ],
   "source": [
    "silhouette_scores = [] \n",
    "\n",
    "for n_cluster in range(2, 8):\n",
    "    silhouette_scores.append( \n",
    "        silhouette_score(normal_df, KMeans(n_clusters = n_cluster).fit_predict(normal_df))) \n",
    "    \n",
    "# Plotting a bar graph to compare the results \n",
    "k = [2, 3, 4, 5, 6,7] \n",
    "plt.bar(k, silhouette_scores) \n",
    "plt.xlabel('Number of clusters', fontsize = 10) \n",
    "plt.ylabel('Silhouette Score', fontsize = 10) \n",
    "plt.show() \n",
    "print(\"..............................................................\")\n",
    "ss_df=pd.DataFrame({\"Cluster\":k,\"Silhoutte_Score\":silhouette_scores})\n",
    "print(ss_df)"
   ]
  },
  {
   "cell_type": "code",
   "execution_count": 98,
   "id": "a55204be",
   "metadata": {},
   "outputs": [
    {
     "name": "stdout",
     "output_type": "stream",
     "text": [
      "<class 'matplotlib.axes._subplots.Axes3DSubplot'>\n"
     ]
    },
    {
     "data": {
      "image/png": "[encoded data removed]",
      "text/plain": [
       "<Figure size 500x400 with 1 Axes>"
      ]
     },
     "metadata": {},
     "output_type": "display_data"
    }
   ],
   "source": [
    "plt.figure(figsize = (5, 4))\n",
    "plot_axes = plt.axes(projection = '3d')\n",
    "\n",
    "print(type(plot_axes))\n",
    "plot_axes.scatter3D(df.Recency, df.Freq, df.Monetary)\n",
    "\n",
    "plot_axes.set_xlabel('x')\n",
    "plot_axes.set_ylabel('y')\n",
    "plot_axes.set_zlabel('z')\n",
    "plt.show()"
   ]
  },
  {
   "cell_type": "markdown",
   "id": "0907fb9f",
   "metadata": {},
   "source": [
    "### Using Principal Component Analysis"
   ]
  },
  {
   "cell_type": "code",
   "execution_count": 102,
   "id": "53d59be7",
   "metadata": {},
   "outputs": [],
   "source": [
    "from sklearn.decomposition import PCA"
   ]
  },
  {
   "cell_type": "code",
   "execution_count": 103,
   "id": "4120b3f8",
   "metadata": {},
   "outputs": [
    {
     "data": {
      "text/html": [
       "<div>\n",
       "<style scoped>\n",
       "    .dataframe tbody tr th:only-of-type {\n",
       "        vertical-align: middle;\n",
       "    }\n",
       "\n",
       "    .dataframe tbody tr th {\n",
       "        vertical-align: top;\n",
       "    }\n",
       "\n",
       "    .dataframe thead th {\n",
       "        text-align: right;\n",
       "    }\n",
       "</style>\n",
       "<table border=\"1\" class=\"dataframe\">\n",
       "  <thead>\n",
       "    <tr style=\"text-align: right;\">\n",
       "      <th></th>\n",
       "      <th>Recency</th>\n",
       "      <th>Freq</th>\n",
       "      <th>Monetary</th>\n",
       "    </tr>\n",
       "    <tr>\n",
       "      <th>Customer_ID</th>\n",
       "      <th></th>\n",
       "      <th></th>\n",
       "      <th></th>\n",
       "    </tr>\n",
       "  </thead>\n",
       "  <tbody>\n",
       "    <tr>\n",
       "      <th>12747</th>\n",
       "      <td>2</td>\n",
       "      <td>103</td>\n",
       "      <td>4196.01</td>\n",
       "    </tr>\n",
       "    <tr>\n",
       "      <th>12748</th>\n",
       "      <td>0</td>\n",
       "      <td>4593</td>\n",
       "      <td>33211.53</td>\n",
       "    </tr>\n",
       "    <tr>\n",
       "      <th>12749</th>\n",
       "      <td>3</td>\n",
       "      <td>199</td>\n",
       "      <td>4090.88</td>\n",
       "    </tr>\n",
       "    <tr>\n",
       "      <th>12820</th>\n",
       "      <td>3</td>\n",
       "      <td>59</td>\n",
       "      <td>942.34</td>\n",
       "    </tr>\n",
       "    <tr>\n",
       "      <th>12821</th>\n",
       "      <td>214</td>\n",
       "      <td>6</td>\n",
       "      <td>92.72</td>\n",
       "    </tr>\n",
       "  </tbody>\n",
       "</table>\n",
       "</div>"
      ],
      "text/plain": [
       "             Recency  Freq  Monetary\n",
       "Customer_ID                         \n",
       "12747              2   103   4196.01\n",
       "12748              0  4593  33211.53\n",
       "12749              3   199   4090.88\n",
       "12820              3    59    942.34\n",
       "12821            214     6     92.72"
      ]
     },
     "execution_count": 103,
     "metadata": {},
     "output_type": "execute_result"
    }
   ],
   "source": [
    "df_main.head()"
   ]
  },
  {
   "cell_type": "code",
   "execution_count": 106,
   "id": "2f65fafd",
   "metadata": {},
   "outputs": [
    {
     "name": "stdout",
     "output_type": "stream",
     "text": [
      "          0         1         2\n",
      "0 -0.851669  0.053790  0.521313\n",
      "1 -0.042380  0.948839  0.312903\n",
      "2 -0.775449  0.432211  0.460297\n",
      "3 -0.973862 -0.158075 -0.163110\n",
      "4  0.923201 -0.291729 -0.250188\n",
      "..........................\n",
      "                 0            1            2\n",
      "count  3903.000000  3903.000000  3903.000000\n",
      "mean     -0.216811    -0.142497    -0.148371\n",
      "std       0.778895     0.422560     0.354504\n",
      "min      -0.999977    -0.967478    -0.983370\n",
      "25%      -0.885964    -0.422632    -0.375678\n",
      "50%      -0.603640    -0.212571    -0.206062\n",
      "75%       0.804613     0.055286    -0.026405\n",
      "max       0.999878     0.989122     0.998614\n"
     ]
    }
   ],
   "source": [
    "raw_df=df_main\n",
    "\n",
    "scaler = StandardScaler() \n",
    "scaled_df = scaler.fit_transform(raw_df) \n",
    "  \n",
    "# Normalizing the Data \n",
    "normalized_df = normalize(scaled_df) \n",
    "  \n",
    "# Converting the numpy array into a pandas DataFrame \n",
    "normalized_df = pd.DataFrame(normalized_df) \n",
    "\n",
    "print(normalized_df.head())\n",
    "print('..........................')\n",
    "print(normalized_df.describe())"
   ]
  },
  {
   "cell_type": "code",
   "execution_count": 107,
   "id": "1922ebf1",
   "metadata": {},
   "outputs": [
    {
     "data": {
      "text/html": [
       "<div>\n",
       "<style scoped>\n",
       "    .dataframe tbody tr th:only-of-type {\n",
       "        vertical-align: middle;\n",
       "    }\n",
       "\n",
       "    .dataframe tbody tr th {\n",
       "        vertical-align: top;\n",
       "    }\n",
       "\n",
       "    .dataframe thead th {\n",
       "        text-align: right;\n",
       "    }\n",
       "</style>\n",
       "<table border=\"1\" class=\"dataframe\">\n",
       "  <thead>\n",
       "    <tr style=\"text-align: right;\">\n",
       "      <th></th>\n",
       "      <th>P1</th>\n",
       "      <th>P2</th>\n",
       "      <th>P3</th>\n",
       "    </tr>\n",
       "  </thead>\n",
       "  <tbody>\n",
       "    <tr>\n",
       "      <th>0</th>\n",
       "      <td>-0.706614</td>\n",
       "      <td>0.464523</td>\n",
       "      <td>0.418287</td>\n",
       "    </tr>\n",
       "    <tr>\n",
       "      <th>1</th>\n",
       "      <td>-0.002132</td>\n",
       "      <td>1.158336</td>\n",
       "      <td>-0.304087</td>\n",
       "    </tr>\n",
       "  </tbody>\n",
       "</table>\n",
       "</div>"
      ],
      "text/plain": [
       "         P1        P2        P3\n",
       "0 -0.706614  0.464523  0.418287\n",
       "1 -0.002132  1.158336 -0.304087"
      ]
     },
     "execution_count": 107,
     "metadata": {},
     "output_type": "execute_result"
    }
   ],
   "source": [
    "# Reducing the dimensions of the data \n",
    "pca = PCA(n_components = 3) \n",
    "X_principal = pca.fit_transform(normalized_df) \n",
    "X_principal = pd.DataFrame(X_principal) \n",
    "X_principal.columns = ['P1', 'P2','P3'] \n",
    "  \n",
    "X_principal.head(2)"
   ]
  },
  {
   "cell_type": "code",
   "execution_count": null,
   "id": "91a82def",
   "metadata": {},
   "outputs": [],
   "source": []
  }
 ],
 "metadata": {
  "kernelspec": {
   "display_name": "Python 3 (ipykernel)",
   "language": "python",
   "name": "python3"
  },
  "language_info": {
   "codemirror_mode": {
    "name": "ipython",
    "version": 3
   },
   "file_extension": ".py",
   "mimetype": "text/x-python",
   "name": "python",
   "nbconvert_exporter": "python",
   "pygments_lexer": "ipython3",
   "version": "3.9.13"
  }
 },
 "nbformat": 4,
 "nbformat_minor": 5
}
